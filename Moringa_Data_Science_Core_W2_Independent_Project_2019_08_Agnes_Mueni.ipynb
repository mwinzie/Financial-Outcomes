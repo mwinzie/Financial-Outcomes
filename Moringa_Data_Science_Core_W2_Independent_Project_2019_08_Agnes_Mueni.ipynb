{
  "nbformat": 4,
  "nbformat_minor": 0,
  "metadata": {
    "colab": {
      "name": "Moringa_Data_Science_Core_W2_Independent_Project_2019_08_Agnes_Mueni.ipynb",
      "version": "0.3.2",
      "provenance": [],
      "toc_visible": true,
      "include_colab_link": true
    },
    "kernelspec": {
      "name": "python3",
      "display_name": "Python 3"
    },
    "accelerator": "GPU"
  },
  "cells": [
    {
      "cell_type": "markdown",
      "metadata": {
        "id": "view-in-github",
        "colab_type": "text"
      },
      "source": [
        "<a href=\"https://colab.research.google.com/github/mwinzie/Financial-Outcomes/blob/master/Moringa_Data_Science_Core_W2_Independent_Project_2019_08_Agnes_Mueni.ipynb\" target=\"_parent\"><img src=\"https://colab.research.google.com/assets/colab-badge.svg\" alt=\"Open In Colab\"/></a>"
      ]
    },
    {
      "cell_type": "markdown",
      "metadata": {
        "id": "3WAL_VkgNghk",
        "colab_type": "text"
      },
      "source": [
        "## 1.  Importing Libraries"
      ]
    },
    {
      "cell_type": "code",
      "metadata": {
        "id": "9-83fvw8iyim",
        "colab_type": "code",
        "colab": {}
      },
      "source": [
        "#importing all the necessary libraries that I will use while carrying out this Independent Project\n",
        "\n",
        "import pandas as pd\n",
        "\n",
        "import numpy as np\n",
        "\n",
        "import seaborn as sns\n",
        "\n",
        "import matplotlib.pyplot as plt\n",
        "\n",
        "\n"
      ],
      "execution_count": 0,
      "outputs": []
    },
    {
      "cell_type": "markdown",
      "metadata": {
        "id": "jwD4WxpsTg9b",
        "colab_type": "text"
      },
      "source": [
        "## Loading the data set"
      ]
    },
    {
      "cell_type": "code",
      "metadata": {
        "id": "3GaisEMHTljV",
        "colab_type": "code",
        "colab": {}
      },
      "source": [
        "#loading the data from URL and creating a dataframe called finance\n",
        "finance = pd.read_csv('http://bit.ly/FinancialDataset')\n"
      ],
      "execution_count": 0,
      "outputs": []
    },
    {
      "cell_type": "markdown",
      "metadata": {
        "id": "Ur_v48F1VuaE",
        "colab_type": "text"
      },
      "source": [
        "## Reading the data set"
      ]
    },
    {
      "cell_type": "code",
      "metadata": {
        "id": "ZuGM7cDNW73H",
        "colab_type": "code",
        "outputId": "01965391-3d40-4158-cdb5-f8b581d09632",
        "colab": {
          "base_uri": "https://localhost:8080/",
          "height": 52
        }
      },
      "source": [
        "#previewing the number of rows and columns that are in the dataset\n",
        "print((finance.shape[0]), 'rows')\n",
        "print(finance.shape[1], 'columns')"
      ],
      "execution_count": 5,
      "outputs": [
        {
          "output_type": "stream",
          "text": [
            "23524 rows\n",
            "13 columns\n"
          ],
          "name": "stdout"
        }
      ]
    },
    {
      "cell_type": "code",
      "metadata": {
        "id": "SQw683uUUSaP",
        "colab_type": "code",
        "outputId": "f3d2be3b-f897-49d2-c473-e161de7365a3",
        "colab": {
          "base_uri": "https://localhost:8080/",
          "height": 367
        }
      },
      "source": [
        "#previewing the first five records of the dataset so as to see what the dataset contains\n",
        "finance.head(5)"
      ],
      "execution_count": 0,
      "outputs": [
        {
          "output_type": "execute_result",
          "data": {
            "text/html": [
              "<div>\n",
              "<style scoped>\n",
              "    .dataframe tbody tr th:only-of-type {\n",
              "        vertical-align: middle;\n",
              "    }\n",
              "\n",
              "    .dataframe tbody tr th {\n",
              "        vertical-align: top;\n",
              "    }\n",
              "\n",
              "    .dataframe thead th {\n",
              "        text-align: right;\n",
              "    }\n",
              "</style>\n",
              "<table border=\"1\" class=\"dataframe\">\n",
              "  <thead>\n",
              "    <tr style=\"text-align: right;\">\n",
              "      <th></th>\n",
              "      <th>country</th>\n",
              "      <th>year</th>\n",
              "      <th>uniqueid</th>\n",
              "      <th>Has a Bank account</th>\n",
              "      <th>Type of Location</th>\n",
              "      <th>Cell Phone Access</th>\n",
              "      <th>household_size</th>\n",
              "      <th>Respondent Age</th>\n",
              "      <th>gender_of_respondent</th>\n",
              "      <th>The relathip with head</th>\n",
              "      <th>marital_status</th>\n",
              "      <th>Level of Educuation</th>\n",
              "      <th>Type of Job</th>\n",
              "    </tr>\n",
              "  </thead>\n",
              "  <tbody>\n",
              "    <tr>\n",
              "      <th>0</th>\n",
              "      <td>Kenya</td>\n",
              "      <td>2018</td>\n",
              "      <td>uniqueid_1</td>\n",
              "      <td>Yes</td>\n",
              "      <td>Rural</td>\n",
              "      <td>Yes</td>\n",
              "      <td>3.0</td>\n",
              "      <td>24.0</td>\n",
              "      <td>Female</td>\n",
              "      <td>Spouse</td>\n",
              "      <td>Married/Living together</td>\n",
              "      <td>Secondary education</td>\n",
              "      <td>Self employed</td>\n",
              "    </tr>\n",
              "    <tr>\n",
              "      <th>1</th>\n",
              "      <td>Kenya</td>\n",
              "      <td>2018</td>\n",
              "      <td>uniqueid_2</td>\n",
              "      <td>No</td>\n",
              "      <td>Rural</td>\n",
              "      <td>No</td>\n",
              "      <td>5.0</td>\n",
              "      <td>70.0</td>\n",
              "      <td>Female</td>\n",
              "      <td>Head of Household</td>\n",
              "      <td>Widowed</td>\n",
              "      <td>No formal education</td>\n",
              "      <td>Government Dependent</td>\n",
              "    </tr>\n",
              "    <tr>\n",
              "      <th>2</th>\n",
              "      <td>Kenya</td>\n",
              "      <td>2018</td>\n",
              "      <td>uniqueid_3</td>\n",
              "      <td>Yes</td>\n",
              "      <td>Urban</td>\n",
              "      <td>Yes</td>\n",
              "      <td>5.0</td>\n",
              "      <td>26.0</td>\n",
              "      <td>Male</td>\n",
              "      <td>Other relative</td>\n",
              "      <td>Single/Never Married</td>\n",
              "      <td>Vocational/Specialised training</td>\n",
              "      <td>Self employed</td>\n",
              "    </tr>\n",
              "    <tr>\n",
              "      <th>3</th>\n",
              "      <td>Kenya</td>\n",
              "      <td>2018</td>\n",
              "      <td>uniqueid_4</td>\n",
              "      <td>No</td>\n",
              "      <td>Rural</td>\n",
              "      <td>Yes</td>\n",
              "      <td>5.0</td>\n",
              "      <td>34.0</td>\n",
              "      <td>Female</td>\n",
              "      <td>Head of Household</td>\n",
              "      <td>Married/Living together</td>\n",
              "      <td>Primary education</td>\n",
              "      <td>Formally employed Private</td>\n",
              "    </tr>\n",
              "    <tr>\n",
              "      <th>4</th>\n",
              "      <td>Kenya</td>\n",
              "      <td>2018</td>\n",
              "      <td>uniqueid_5</td>\n",
              "      <td>No</td>\n",
              "      <td>Urban</td>\n",
              "      <td>No</td>\n",
              "      <td>8.0</td>\n",
              "      <td>26.0</td>\n",
              "      <td>Male</td>\n",
              "      <td>Child</td>\n",
              "      <td>Single/Never Married</td>\n",
              "      <td>Primary education</td>\n",
              "      <td>Informally employed</td>\n",
              "    </tr>\n",
              "  </tbody>\n",
              "</table>\n",
              "</div>"
            ],
            "text/plain": [
              "  country  year  ...              Level of Educuation                Type of Job\n",
              "0   Kenya  2018  ...              Secondary education              Self employed\n",
              "1   Kenya  2018  ...              No formal education       Government Dependent\n",
              "2   Kenya  2018  ...  Vocational/Specialised training              Self employed\n",
              "3   Kenya  2018  ...                Primary education  Formally employed Private\n",
              "4   Kenya  2018  ...                Primary education        Informally employed\n",
              "\n",
              "[5 rows x 13 columns]"
            ]
          },
          "metadata": {
            "tags": []
          },
          "execution_count": 91
        }
      ]
    },
    {
      "cell_type": "code",
      "metadata": {
        "id": "ICs3mbVPWyaE",
        "colab_type": "code",
        "outputId": "748c6a63-1856-4fb4-e51c-9c1474d4ba1f",
        "colab": {
          "base_uri": "https://localhost:8080/",
          "height": 265
        }
      },
      "source": [
        "#checking to see the data types of the columns in the data set\n",
        "finance.dtypes"
      ],
      "execution_count": 0,
      "outputs": [
        {
          "output_type": "execute_result",
          "data": {
            "text/plain": [
              "country                    object\n",
              "year                        int64\n",
              "uniqueid                   object\n",
              "Has a Bank account         object\n",
              "Type of Location           object\n",
              "Cell Phone Access          object\n",
              "household_size            float64\n",
              "Respondent Age            float64\n",
              "gender_of_respondent       object\n",
              "The relathip with head     object\n",
              "marital_status             object\n",
              "Level of Educuation        object\n",
              "Type of Job                object\n",
              "dtype: object"
            ]
          },
          "metadata": {
            "tags": []
          },
          "execution_count": 92
        }
      ]
    },
    {
      "cell_type": "markdown",
      "metadata": {
        "id": "L5zpsc2Gayf4",
        "colab_type": "text"
      },
      "source": [
        "## Cleaning the data set\n",
        "While tidying the dataset, I shall check for missing data, irrelevant data that may not be needed in the study, check for any syntax errors, outliers and also check for data completeness and uniformity."
      ]
    },
    {
      "cell_type": "code",
      "metadata": {
        "id": "s6NfZwcgadPs",
        "colab_type": "code",
        "outputId": "860c2ac7-1acf-4d8f-9a72-ec3ee131214c",
        "colab": {
          "base_uri": "https://localhost:8080/",
          "height": 105
        }
      },
      "source": [
        "#changing all the column names to lower case and replacing all the spaces with '_' to ease in referencing\n",
        "finance.columns = finance.columns.str.strip().str.replace(' ','_').str.lower()\n",
        "#previewing the column names to ensure the changes have been effected\n",
        "finance.columns"
      ],
      "execution_count": 6,
      "outputs": [
        {
          "output_type": "execute_result",
          "data": {
            "text/plain": [
              "Index(['country', 'year', 'uniqueid', 'has_a_bank_account', 'type_of_location',\n",
              "       'cell_phone_access', 'household_size', 'respondent_age',\n",
              "       'gender_of_respondent', 'the_relathip_with_head', 'marital_status',\n",
              "       'level_of_educuation', 'type_of_job'],\n",
              "      dtype='object')"
            ]
          },
          "metadata": {
            "tags": []
          },
          "execution_count": 6
        }
      ]
    },
    {
      "cell_type": "code",
      "metadata": {
        "id": "uvZ7I70WdQBr",
        "colab_type": "code",
        "outputId": "49a7760a-dd6b-4483-8eee-7a123694d36a",
        "colab": {
          "base_uri": "https://localhost:8080/",
          "height": 105
        }
      },
      "source": [
        "#renaming column names that appear to have errors.\n",
        "finance.rename(columns = {'the_relathip_with_head':'relationship_with_head', 'level_of_educuation':'level_of _education'}, inplace = True)\n",
        "#checking to see changes have been made\n",
        "finance.columns"
      ],
      "execution_count": 7,
      "outputs": [
        {
          "output_type": "execute_result",
          "data": {
            "text/plain": [
              "Index(['country', 'year', 'uniqueid', 'has_a_bank_account', 'type_of_location',\n",
              "       'cell_phone_access', 'household_size', 'respondent_age',\n",
              "       'gender_of_respondent', 'relationship_with_head', 'marital_status',\n",
              "       'level_of _education', 'type_of_job'],\n",
              "      dtype='object')"
            ]
          },
          "metadata": {
            "tags": []
          },
          "execution_count": 7
        }
      ]
    },
    {
      "cell_type": "code",
      "metadata": {
        "id": "Uzfsw8mJlpd0",
        "colab_type": "code",
        "outputId": "c2a886d0-6695-4ab5-d2f4-2f4130174d9e",
        "colab": {
          "base_uri": "https://localhost:8080/",
          "height": 1000
        }
      },
      "source": [
        "#Checking for duplicate values in the dataset\n",
        "dup = finance.duplicated()\n",
        " \n",
        "print(dup)\n",
        "\n",
        "#most of the records appear to have repeat values similar to another observation\n",
        "#therefore deleting the records may affect the final outcome and hence will not delete any of the records and retain them as is"
      ],
      "execution_count": 8,
      "outputs": [
        {
          "output_type": "stream",
          "text": [
            "0        False\n",
            "1        False\n",
            "2        False\n",
            "3        False\n",
            "4        False\n",
            "5        False\n",
            "6        False\n",
            "7        False\n",
            "8        False\n",
            "9        False\n",
            "10       False\n",
            "11       False\n",
            "12       False\n",
            "13       False\n",
            "14       False\n",
            "15       False\n",
            "16       False\n",
            "17       False\n",
            "18       False\n",
            "19       False\n",
            "20       False\n",
            "21       False\n",
            "22       False\n",
            "23       False\n",
            "24       False\n",
            "25       False\n",
            "26       False\n",
            "27       False\n",
            "28       False\n",
            "29       False\n",
            "         ...  \n",
            "23494    False\n",
            "23495    False\n",
            "23496    False\n",
            "23497    False\n",
            "23498    False\n",
            "23499    False\n",
            "23500    False\n",
            "23501    False\n",
            "23502    False\n",
            "23503    False\n",
            "23504    False\n",
            "23505    False\n",
            "23506    False\n",
            "23507    False\n",
            "23508    False\n",
            "23509    False\n",
            "23510    False\n",
            "23511    False\n",
            "23512    False\n",
            "23513    False\n",
            "23514    False\n",
            "23515    False\n",
            "23516    False\n",
            "23517    False\n",
            "23518    False\n",
            "23519    False\n",
            "23520    False\n",
            "23521    False\n",
            "23522    False\n",
            "23523    False\n",
            "Length: 23524, dtype: bool\n"
          ],
          "name": "stdout"
        }
      ]
    },
    {
      "cell_type": "code",
      "metadata": {
        "id": "39jVsuOinQ-I",
        "colab_type": "code",
        "outputId": "9cc80353-0a63-4ba4-9c8f-dfcb56d010a9",
        "colab": {
          "base_uri": "https://localhost:8080/",
          "height": 613
        }
      },
      "source": [
        "#checking the dataset for outliers\n",
        "finance.boxplot(figsize = (12,10))\n",
        "#year,household_size and respondent age have outliers"
      ],
      "execution_count": 9,
      "outputs": [
        {
          "output_type": "execute_result",
          "data": {
            "text/plain": [
              "<matplotlib.axes._subplots.AxesSubplot at 0x7f8f31a669e8>"
            ]
          },
          "metadata": {
            "tags": []
          },
          "execution_count": 9
        },
        {
          "output_type": "display_data",
          "data": {
            "image/png": "[encoded data removed]",
            "text/plain": [
              "<Figure size 864x720 with 1 Axes>"
            ]
          },
          "metadata": {
            "tags": []
          }
        }
      ]
    },
    {
      "cell_type": "code",
      "metadata": {
        "id": "1X3ZWf9IqgkR",
        "colab_type": "code",
        "outputId": "437bdf2e-41e1-47a8-fc66-5d701014d5ee",
        "colab": {
          "base_uri": "https://localhost:8080/",
          "height": 286
        }
      },
      "source": [
        "#checking the column 'year' for outliers\n",
        "finance.boxplot(['year'])"
      ],
      "execution_count": 0,
      "outputs": [
        {
          "output_type": "execute_result",
          "data": {
            "text/plain": [
              "<matplotlib.axes._subplots.AxesSubplot at 0x7f460adba470>"
            ]
          },
          "metadata": {
            "tags": []
          },
          "execution_count": 126
        },
        {
          "output_type": "display_data",
          "data": {
            "image/png": "[encoded data removed]",
            "text/plain": [
              "<Figure size 432x288 with 1 Axes>"
            ]
          },
          "metadata": {
            "tags": []
          }
        }
      ]
    },
    {
      "cell_type": "code",
      "metadata": {
        "id": "hLaIO1LYrEJB",
        "colab_type": "code",
        "outputId": "759a6a63-baea-4e62-d65c-92bf5ab38dde",
        "colab": {
          "base_uri": "https://localhost:8080/",
          "height": 287
        }
      },
      "source": [
        "#checking the column 'household_size' for outliers\n",
        "finance.boxplot(['household_size'])"
      ],
      "execution_count": 0,
      "outputs": [
        {
          "output_type": "execute_result",
          "data": {
            "text/plain": [
              "<matplotlib.axes._subplots.AxesSubplot at 0x7f460ad93898>"
            ]
          },
          "metadata": {
            "tags": []
          },
          "execution_count": 127
        },
        {
          "output_type": "display_data",
          "data": {
            "image/png": "[encoded data removed]",
            "text/plain": [
              "<Figure size 432x288 with 1 Axes>"
            ]
          },
          "metadata": {
            "tags": []
          }
        }
      ]
    },
    {
      "cell_type": "code",
      "metadata": {
        "id": "cC3AM2NhrMtr",
        "colab_type": "code",
        "outputId": "b95d2e45-7a57-4cc3-c224-41b3e5bd09bb",
        "colab": {
          "base_uri": "https://localhost:8080/",
          "height": 287
        }
      },
      "source": [
        "#checking the column 'respondent_age' for outliers\n",
        "finance.boxplot(['respondent_age'])"
      ],
      "execution_count": 0,
      "outputs": [
        {
          "output_type": "execute_result",
          "data": {
            "text/plain": [
              "<matplotlib.axes._subplots.AxesSubplot at 0x7f460acf4ba8>"
            ]
          },
          "metadata": {
            "tags": []
          },
          "execution_count": 128
        },
        {
          "output_type": "display_data",
          "data": {
            "image/png": "[encoded data removed]",
            "text/plain": [
              "<Figure size 432x288 with 1 Axes>"
            ]
          },
          "metadata": {
            "tags": []
          }
        }
      ]
    },
    {
      "cell_type": "code",
      "metadata": {
        "id": "RyMGZIgz1BnX",
        "colab_type": "code",
        "outputId": "c2abc490-5a51-4eb6-8c18-e5847f6cbe2e",
        "colab": {
          "base_uri": "https://localhost:8080/",
          "height": 34
        }
      },
      "source": [
        "finance.year.unique()"
      ],
      "execution_count": 10,
      "outputs": [
        {
          "output_type": "execute_result",
          "data": {
            "text/plain": [
              "array([2018, 2029, 2056, 2016, 2039, 2017])"
            ]
          },
          "metadata": {
            "tags": []
          },
          "execution_count": 10
        }
      ]
    },
    {
      "cell_type": "code",
      "metadata": {
        "id": "lHnmws3SuFYi",
        "colab_type": "code",
        "outputId": "0a866340-4056-4edb-946d-778dc234eb36",
        "colab": {
          "base_uri": "https://localhost:8080/",
          "height": 34
        }
      },
      "source": [
        "#median value for the year column\n",
        "finance.year.median()"
      ],
      "execution_count": 11,
      "outputs": [
        {
          "output_type": "execute_result",
          "data": {
            "text/plain": [
              "2017.0"
            ]
          },
          "metadata": {
            "tags": []
          },
          "execution_count": 11
        }
      ]
    },
    {
      "cell_type": "code",
      "metadata": {
        "id": "LmwmM7Puz7w-",
        "colab_type": "code",
        "outputId": "ef5dbc69-f136-4e84-ffdd-0b0a5664a932",
        "colab": {
          "base_uri": "https://localhost:8080/",
          "height": 241
        }
      },
      "source": [
        "#checking for the index of the outliers in the year column\n",
        "finance.loc[finance['year'].isin([2029,2056,2039])]\n"
      ],
      "execution_count": 12,
      "outputs": [
        {
          "output_type": "execute_result",
          "data": {
            "text/html": [
              "<div>\n",
              "<style scoped>\n",
              "    .dataframe tbody tr th:only-of-type {\n",
              "        vertical-align: middle;\n",
              "    }\n",
              "\n",
              "    .dataframe tbody tr th {\n",
              "        vertical-align: top;\n",
              "    }\n",
              "\n",
              "    .dataframe thead th {\n",
              "        text-align: right;\n",
              "    }\n",
              "</style>\n",
              "<table border=\"1\" class=\"dataframe\">\n",
              "  <thead>\n",
              "    <tr style=\"text-align: right;\">\n",
              "      <th></th>\n",
              "      <th>country</th>\n",
              "      <th>year</th>\n",
              "      <th>uniqueid</th>\n",
              "      <th>has_a_bank_account</th>\n",
              "      <th>type_of_location</th>\n",
              "      <th>cell_phone_access</th>\n",
              "      <th>household_size</th>\n",
              "      <th>respondent_age</th>\n",
              "      <th>gender_of_respondent</th>\n",
              "      <th>relationship_with_head</th>\n",
              "      <th>marital_status</th>\n",
              "      <th>level_of _education</th>\n",
              "      <th>type_of_job</th>\n",
              "    </tr>\n",
              "  </thead>\n",
              "  <tbody>\n",
              "    <tr>\n",
              "      <th>213</th>\n",
              "      <td>Kenya</td>\n",
              "      <td>2029</td>\n",
              "      <td>uniqueid_214</td>\n",
              "      <td>No</td>\n",
              "      <td>Urban</td>\n",
              "      <td>Yes</td>\n",
              "      <td>6.0</td>\n",
              "      <td>16.0</td>\n",
              "      <td>Male</td>\n",
              "      <td>Other relative</td>\n",
              "      <td>Single/Never Married</td>\n",
              "      <td>Secondary education</td>\n",
              "      <td>Remittance Dependent</td>\n",
              "    </tr>\n",
              "    <tr>\n",
              "      <th>308</th>\n",
              "      <td>Kenya</td>\n",
              "      <td>2056</td>\n",
              "      <td>uniqueid_309</td>\n",
              "      <td>Yes</td>\n",
              "      <td>Urban</td>\n",
              "      <td>Yes</td>\n",
              "      <td>4.0</td>\n",
              "      <td>40.0</td>\n",
              "      <td>Male</td>\n",
              "      <td>Head of Household</td>\n",
              "      <td>Married/Living together</td>\n",
              "      <td>Tertiary education</td>\n",
              "      <td>Formally employed Private</td>\n",
              "    </tr>\n",
              "    <tr>\n",
              "      <th>7014</th>\n",
              "      <td>Rwanda</td>\n",
              "      <td>2039</td>\n",
              "      <td>uniqueid_947</td>\n",
              "      <td>No</td>\n",
              "      <td>Rural</td>\n",
              "      <td>Yes</td>\n",
              "      <td>3.0</td>\n",
              "      <td>24.0</td>\n",
              "      <td>Female</td>\n",
              "      <td>Spouse</td>\n",
              "      <td>Married/Living together</td>\n",
              "      <td>Primary education</td>\n",
              "      <td>Informally employed</td>\n",
              "    </tr>\n",
              "  </tbody>\n",
              "</table>\n",
              "</div>"
            ],
            "text/plain": [
              "     country  year  ...  level_of _education                type_of_job\n",
              "213    Kenya  2029  ...  Secondary education       Remittance Dependent\n",
              "308    Kenya  2056  ...   Tertiary education  Formally employed Private\n",
              "7014  Rwanda  2039  ...    Primary education        Informally employed\n",
              "\n",
              "[3 rows x 13 columns]"
            ]
          },
          "metadata": {
            "tags": []
          },
          "execution_count": 12
        }
      ]
    },
    {
      "cell_type": "code",
      "metadata": {
        "id": "U1Ew3oD783tU",
        "colab_type": "code",
        "colab": {}
      },
      "source": [
        "#for the year column, i shall replace the outliers with the median value of the column year which is 2017.\n",
        "#213,308 and 7014 are the columns where the year has been replaced by the median value\n",
        "finance.loc[213,'year'] = 2017\n",
        "finance.loc[308,'year'] = 2017\n",
        "finance.loc[7014,'year'] = 2017"
      ],
      "execution_count": 0,
      "outputs": []
    },
    {
      "cell_type": "code",
      "metadata": {
        "id": "67mB1z-RthXK",
        "colab_type": "code",
        "outputId": "801145ec-a784-4d1a-b719-3bca0c134dea",
        "colab": {
          "base_uri": "https://localhost:8080/",
          "height": 34
        }
      },
      "source": [
        "#checking to see the changes have been made so as to remain with the years under study\n",
        "finance.year.unique()"
      ],
      "execution_count": 14,
      "outputs": [
        {
          "output_type": "execute_result",
          "data": {
            "text/plain": [
              "array([2018, 2017, 2016])"
            ]
          },
          "metadata": {
            "tags": []
          },
          "execution_count": 14
        }
      ]
    },
    {
      "cell_type": "code",
      "metadata": {
        "id": "sAvLxtXd_y6D",
        "colab_type": "code",
        "outputId": "97149aa5-1a7c-42ce-fb90-26423c1d4b1d",
        "colab": {
          "base_uri": "https://localhost:8080/",
          "height": 976
        }
      },
      "source": [
        "#iterating through all columns for unique values in the dataset\n",
        "for i in finance.columns:\n",
        "  #to print a line in between the columns\n",
        "  print('\\n')\n",
        "  print(finance[i].unique())"
      ],
      "execution_count": 15,
      "outputs": [
        {
          "output_type": "stream",
          "text": [
            "\n",
            "\n",
            "['Kenya' 'Rwanda' 'Tanzania' nan 'Uganda']\n",
            "\n",
            "\n",
            "[2018 2017 2016]\n",
            "\n",
            "\n",
            "['uniqueid_1' 'uniqueid_2' 'uniqueid_3' ... 'uniqueid_8757'\n",
            " 'uniqueid_8758' 'uniqueid_8759']\n",
            "\n",
            "\n",
            "['Yes' 'No' nan]\n",
            "\n",
            "\n",
            "['Rural' 'Urban' nan]\n",
            "\n",
            "\n",
            "['Yes' 'No' nan]\n",
            "\n",
            "\n",
            "[ 3.  5.  8.  7.  1.  6.  4. 10.  2. 11.  9. 12. 16. 15. 13. 14. 21. nan\n",
            "  0. 18. 17. 20.]\n",
            "\n",
            "\n",
            "[ 24.  70.  26.  34.  32.  42.  54.  76.  40.  69.  64.  31.  38.  47.\n",
            "  27.  48.  25.  21.  18.  22.  58.  55.  62.  29.  35.  45.  67.  19.\n",
            "  80.  66.  50.  33.  28.  51.  16.  17.  30.  37.  59.  65.  46.  56.\n",
            "  52.  23.  43.  49.  44.  72.  53.  63.  39.  81.  78.  36.  20.  60.\n",
            "  95.  71.  57.  85.  68.  41.  61.  75.  86.  73.  nan  93.  74.  88.\n",
            "  90.  77.  84.  82.  89.  79.  83.  94.  87.  92.  91.  98.  97.  96.\n",
            "  99. 100.]\n",
            "\n",
            "\n",
            "['Female' 'Male' nan]\n",
            "\n",
            "\n",
            "['Spouse' 'Head of Household' 'Other relative' 'Child' 'Parent'\n",
            " 'Other non-relatives' nan]\n",
            "\n",
            "\n",
            "['Married/Living together' 'Widowed' 'Single/Never Married'\n",
            " 'Divorced/Seperated' 'Dont know' nan]\n",
            "\n",
            "\n",
            "['Secondary education' 'No formal education'\n",
            " 'Vocational/Specialised training' 'Primary education'\n",
            " 'Tertiary education' 'Other/Dont know/RTA' '6' nan]\n",
            "\n",
            "\n",
            "['Self employed' 'Government Dependent' 'Formally employed Private'\n",
            " 'Informally employed' 'Formally employed Government'\n",
            " 'Farming and Fishing' 'Remittance Dependent' 'Other Income'\n",
            " 'Dont Know/Refuse to answer' nan 'No Income']\n"
          ],
          "name": "stdout"
        }
      ]
    },
    {
      "cell_type": "code",
      "metadata": {
        "id": "MLsnNgVIrZEi",
        "colab_type": "code",
        "outputId": "c4a55fbb-1bed-4536-a7b8-48974f9ebeae",
        "colab": {
          "base_uri": "https://localhost:8080/",
          "height": 265
        }
      },
      "source": [
        "#seeing as the dataset has outliers, first I shall check for the null values \n",
        "#in the dataset\n",
        "finance.isna().sum()\n"
      ],
      "execution_count": 16,
      "outputs": [
        {
          "output_type": "execute_result",
          "data": {
            "text/plain": [
              "country                   14\n",
              "year                       0\n",
              "uniqueid                   0\n",
              "has_a_bank_account        36\n",
              "type_of_location          15\n",
              "cell_phone_access         11\n",
              "household_size            28\n",
              "respondent_age            34\n",
              "gender_of_respondent      34\n",
              "relationship_with_head     4\n",
              "marital_status            32\n",
              "level_of _education       29\n",
              "type_of_job               30\n",
              "dtype: int64"
            ]
          },
          "metadata": {
            "tags": []
          },
          "execution_count": 16
        }
      ]
    },
    {
      "cell_type": "code",
      "metadata": {
        "id": "UI9tLBin-TF5",
        "colab_type": "code",
        "outputId": "67c5b806-3caa-48d8-c378-2c57dc719a57",
        "colab": {
          "base_uri": "https://localhost:8080/",
          "height": 334
        }
      },
      "source": [
        "#the nan values seem not to be many\n",
        "#I opt for the option of dropping all the nan values in the dataset and \n",
        "#creating a new dataframe financeone\n",
        "\n",
        "financeone = finance.dropna()\n",
        "#previewing the first five recoreds in the dataset\n",
        "financeone.head(5)"
      ],
      "execution_count": 17,
      "outputs": [
        {
          "output_type": "execute_result",
          "data": {
            "text/html": [
              "<div>\n",
              "<style scoped>\n",
              "    .dataframe tbody tr th:only-of-type {\n",
              "        vertical-align: middle;\n",
              "    }\n",
              "\n",
              "    .dataframe tbody tr th {\n",
              "        vertical-align: top;\n",
              "    }\n",
              "\n",
              "    .dataframe thead th {\n",
              "        text-align: right;\n",
              "    }\n",
              "</style>\n",
              "<table border=\"1\" class=\"dataframe\">\n",
              "  <thead>\n",
              "    <tr style=\"text-align: right;\">\n",
              "      <th></th>\n",
              "      <th>country</th>\n",
              "      <th>year</th>\n",
              "      <th>uniqueid</th>\n",
              "      <th>has_a_bank_account</th>\n",
              "      <th>type_of_location</th>\n",
              "      <th>cell_phone_access</th>\n",
              "      <th>household_size</th>\n",
              "      <th>respondent_age</th>\n",
              "      <th>gender_of_respondent</th>\n",
              "      <th>relationship_with_head</th>\n",
              "      <th>marital_status</th>\n",
              "      <th>level_of _education</th>\n",
              "      <th>type_of_job</th>\n",
              "    </tr>\n",
              "  </thead>\n",
              "  <tbody>\n",
              "    <tr>\n",
              "      <th>0</th>\n",
              "      <td>Kenya</td>\n",
              "      <td>2018</td>\n",
              "      <td>uniqueid_1</td>\n",
              "      <td>Yes</td>\n",
              "      <td>Rural</td>\n",
              "      <td>Yes</td>\n",
              "      <td>3.0</td>\n",
              "      <td>24.0</td>\n",
              "      <td>Female</td>\n",
              "      <td>Spouse</td>\n",
              "      <td>Married/Living together</td>\n",
              "      <td>Secondary education</td>\n",
              "      <td>Self employed</td>\n",
              "    </tr>\n",
              "    <tr>\n",
              "      <th>1</th>\n",
              "      <td>Kenya</td>\n",
              "      <td>2018</td>\n",
              "      <td>uniqueid_2</td>\n",
              "      <td>No</td>\n",
              "      <td>Rural</td>\n",
              "      <td>No</td>\n",
              "      <td>5.0</td>\n",
              "      <td>70.0</td>\n",
              "      <td>Female</td>\n",
              "      <td>Head of Household</td>\n",
              "      <td>Widowed</td>\n",
              "      <td>No formal education</td>\n",
              "      <td>Government Dependent</td>\n",
              "    </tr>\n",
              "    <tr>\n",
              "      <th>2</th>\n",
              "      <td>Kenya</td>\n",
              "      <td>2018</td>\n",
              "      <td>uniqueid_3</td>\n",
              "      <td>Yes</td>\n",
              "      <td>Urban</td>\n",
              "      <td>Yes</td>\n",
              "      <td>5.0</td>\n",
              "      <td>26.0</td>\n",
              "      <td>Male</td>\n",
              "      <td>Other relative</td>\n",
              "      <td>Single/Never Married</td>\n",
              "      <td>Vocational/Specialised training</td>\n",
              "      <td>Self employed</td>\n",
              "    </tr>\n",
              "    <tr>\n",
              "      <th>3</th>\n",
              "      <td>Kenya</td>\n",
              "      <td>2018</td>\n",
              "      <td>uniqueid_4</td>\n",
              "      <td>No</td>\n",
              "      <td>Rural</td>\n",
              "      <td>Yes</td>\n",
              "      <td>5.0</td>\n",
              "      <td>34.0</td>\n",
              "      <td>Female</td>\n",
              "      <td>Head of Household</td>\n",
              "      <td>Married/Living together</td>\n",
              "      <td>Primary education</td>\n",
              "      <td>Formally employed Private</td>\n",
              "    </tr>\n",
              "    <tr>\n",
              "      <th>4</th>\n",
              "      <td>Kenya</td>\n",
              "      <td>2018</td>\n",
              "      <td>uniqueid_5</td>\n",
              "      <td>No</td>\n",
              "      <td>Urban</td>\n",
              "      <td>No</td>\n",
              "      <td>8.0</td>\n",
              "      <td>26.0</td>\n",
              "      <td>Male</td>\n",
              "      <td>Child</td>\n",
              "      <td>Single/Never Married</td>\n",
              "      <td>Primary education</td>\n",
              "      <td>Informally employed</td>\n",
              "    </tr>\n",
              "  </tbody>\n",
              "</table>\n",
              "</div>"
            ],
            "text/plain": [
              "  country  year  ...              level_of _education                type_of_job\n",
              "0   Kenya  2018  ...              Secondary education              Self employed\n",
              "1   Kenya  2018  ...              No formal education       Government Dependent\n",
              "2   Kenya  2018  ...  Vocational/Specialised training              Self employed\n",
              "3   Kenya  2018  ...                Primary education  Formally employed Private\n",
              "4   Kenya  2018  ...                Primary education        Informally employed\n",
              "\n",
              "[5 rows x 13 columns]"
            ]
          },
          "metadata": {
            "tags": []
          },
          "execution_count": 17
        }
      ]
    },
    {
      "cell_type": "code",
      "metadata": {
        "id": "kKKAd6pGf0Cl",
        "colab_type": "code",
        "outputId": "bccdfc02-f200-4f09-efd0-09236df39d6d",
        "colab": {
          "base_uri": "https://localhost:8080/",
          "height": 265
        }
      },
      "source": [
        "#confirming that the new dataset has no nan values\n",
        "#they all show sum of 0, hence no nan values in the dataset\n",
        "financeone.isna().sum()"
      ],
      "execution_count": 18,
      "outputs": [
        {
          "output_type": "execute_result",
          "data": {
            "text/plain": [
              "country                   0\n",
              "year                      0\n",
              "uniqueid                  0\n",
              "has_a_bank_account        0\n",
              "type_of_location          0\n",
              "cell_phone_access         0\n",
              "household_size            0\n",
              "respondent_age            0\n",
              "gender_of_respondent      0\n",
              "relationship_with_head    0\n",
              "marital_status            0\n",
              "level_of _education       0\n",
              "type_of_job               0\n",
              "dtype: int64"
            ]
          },
          "metadata": {
            "tags": []
          },
          "execution_count": 18
        }
      ]
    },
    {
      "cell_type": "markdown",
      "metadata": {
        "id": "V-8kJqxeAi5U",
        "colab_type": "text"
      },
      "source": [
        "## Univariate analysis\n",
        "\n",
        "\n",
        "\n"
      ]
    },
    {
      "cell_type": "markdown",
      "metadata": {
        "id": "cE1zzwgTBCGj",
        "colab_type": "text"
      },
      "source": [
        "### Frequency Distribution"
      ]
    },
    {
      "cell_type": "code",
      "metadata": {
        "id": "N6dMnQDYA_s1",
        "colab_type": "code",
        "outputId": "11b1422b-ecab-4637-b484-8832fc1347ba",
        "colab": {
          "base_uri": "https://localhost:8080/",
          "height": 227
        }
      },
      "source": [
        "#Frequency table of the dataset using cross tab between country and has a bank account column\n",
        "#financeone.value_counts()\n",
        "frequencies = pd.crosstab(index=financeone[\"country\"], columns=[financeone[\"has_a_bank_account\"]],margins = True)\n",
        "frequencies"
      ],
      "execution_count": 19,
      "outputs": [
        {
          "output_type": "execute_result",
          "data": {
            "text/html": [
              "<div>\n",
              "<style scoped>\n",
              "    .dataframe tbody tr th:only-of-type {\n",
              "        vertical-align: middle;\n",
              "    }\n",
              "\n",
              "    .dataframe tbody tr th {\n",
              "        vertical-align: top;\n",
              "    }\n",
              "\n",
              "    .dataframe thead th {\n",
              "        text-align: right;\n",
              "    }\n",
              "</style>\n",
              "<table border=\"1\" class=\"dataframe\">\n",
              "  <thead>\n",
              "    <tr style=\"text-align: right;\">\n",
              "      <th>has_a_bank_account</th>\n",
              "      <th>No</th>\n",
              "      <th>Yes</th>\n",
              "      <th>All</th>\n",
              "    </tr>\n",
              "    <tr>\n",
              "      <th>country</th>\n",
              "      <th></th>\n",
              "      <th></th>\n",
              "      <th></th>\n",
              "    </tr>\n",
              "  </thead>\n",
              "  <tbody>\n",
              "    <tr>\n",
              "      <th>Kenya</th>\n",
              "      <td>4544</td>\n",
              "      <td>1520</td>\n",
              "      <td>6064</td>\n",
              "    </tr>\n",
              "    <tr>\n",
              "      <th>Rwanda</th>\n",
              "      <td>7687</td>\n",
              "      <td>997</td>\n",
              "      <td>8684</td>\n",
              "    </tr>\n",
              "    <tr>\n",
              "      <th>Tanzania</th>\n",
              "      <td>5901</td>\n",
              "      <td>599</td>\n",
              "      <td>6500</td>\n",
              "    </tr>\n",
              "    <tr>\n",
              "      <th>Uganda</th>\n",
              "      <td>1914</td>\n",
              "      <td>181</td>\n",
              "      <td>2095</td>\n",
              "    </tr>\n",
              "    <tr>\n",
              "      <th>All</th>\n",
              "      <td>20046</td>\n",
              "      <td>3297</td>\n",
              "      <td>23343</td>\n",
              "    </tr>\n",
              "  </tbody>\n",
              "</table>\n",
              "</div>"
            ],
            "text/plain": [
              "has_a_bank_account     No   Yes    All\n",
              "country                               \n",
              "Kenya                4544  1520   6064\n",
              "Rwanda               7687   997   8684\n",
              "Tanzania             5901   599   6500\n",
              "Uganda               1914   181   2095\n",
              "All                 20046  3297  23343"
            ]
          },
          "metadata": {
            "tags": []
          },
          "execution_count": 19
        }
      ]
    },
    {
      "cell_type": "code",
      "metadata": {
        "id": "WxPgvtlHD5-W",
        "colab_type": "code",
        "colab": {}
      },
      "source": [
        "#from the table above, 4544 kenyans don't have a bank account while 1520 kenyans do have an account\n",
        "#7687 Rwandese do not have a bank account while 997 have accounts\n",
        "#5901 Tanzanians do not have an account while 599 do have accounts\n",
        "#1914 Ugandans dont have a bank account while only 181 have accounts\n",
        "#Rwanda has more people with no bank accounts while Kenya has the highest number of people with bank accounts  "
      ],
      "execution_count": 0,
      "outputs": []
    },
    {
      "cell_type": "code",
      "metadata": {
        "id": "0KRYRl3dkl7F",
        "colab_type": "code",
        "outputId": "c830b70c-9af0-4d47-e5ce-2a1a92ec9673",
        "colab": {
          "base_uri": "https://localhost:8080/",
          "height": 167
        }
      },
      "source": [
        "frequency = pd.crosstab(index=financeone[\"gender_of_respondent\"], columns=[financeone[\"has_a_bank_account\"]],margins = True)\n",
        "frequency"
      ],
      "execution_count": 20,
      "outputs": [
        {
          "output_type": "execute_result",
          "data": {
            "text/html": [
              "<div>\n",
              "<style scoped>\n",
              "    .dataframe tbody tr th:only-of-type {\n",
              "        vertical-align: middle;\n",
              "    }\n",
              "\n",
              "    .dataframe tbody tr th {\n",
              "        vertical-align: top;\n",
              "    }\n",
              "\n",
              "    .dataframe thead th {\n",
              "        text-align: right;\n",
              "    }\n",
              "</style>\n",
              "<table border=\"1\" class=\"dataframe\">\n",
              "  <thead>\n",
              "    <tr style=\"text-align: right;\">\n",
              "      <th>has_a_bank_account</th>\n",
              "      <th>No</th>\n",
              "      <th>Yes</th>\n",
              "      <th>All</th>\n",
              "    </tr>\n",
              "    <tr>\n",
              "      <th>gender_of_respondent</th>\n",
              "      <th></th>\n",
              "      <th></th>\n",
              "      <th></th>\n",
              "    </tr>\n",
              "  </thead>\n",
              "  <tbody>\n",
              "    <tr>\n",
              "      <th>Female</th>\n",
              "      <td>12287</td>\n",
              "      <td>1480</td>\n",
              "      <td>13767</td>\n",
              "    </tr>\n",
              "    <tr>\n",
              "      <th>Male</th>\n",
              "      <td>7759</td>\n",
              "      <td>1817</td>\n",
              "      <td>9576</td>\n",
              "    </tr>\n",
              "    <tr>\n",
              "      <th>All</th>\n",
              "      <td>20046</td>\n",
              "      <td>3297</td>\n",
              "      <td>23343</td>\n",
              "    </tr>\n",
              "  </tbody>\n",
              "</table>\n",
              "</div>"
            ],
            "text/plain": [
              "has_a_bank_account       No   Yes    All\n",
              "gender_of_respondent                    \n",
              "Female                12287  1480  13767\n",
              "Male                   7759  1817   9576\n",
              "All                   20046  3297  23343"
            ]
          },
          "metadata": {
            "tags": []
          },
          "execution_count": 20
        }
      ]
    },
    {
      "cell_type": "code",
      "metadata": {
        "id": "K60XUACBExBv",
        "colab_type": "code",
        "colab": {}
      },
      "source": [
        "#12287 females do not have bank accounts compared to 7759 males\n",
        "#1480 females have bank accounts compared to 1870 males\n",
        "#both genders combined, only 3297 have bank accounts with majority of the respondents not owning one"
      ],
      "execution_count": 0,
      "outputs": []
    },
    {
      "cell_type": "markdown",
      "metadata": {
        "id": "U_ai9t_xGEGa",
        "colab_type": "text"
      },
      "source": [
        "### Bar Charts and Histograms\n",
        "This will show distribution from grouping segments together\n"
      ]
    },
    {
      "cell_type": "code",
      "metadata": {
        "id": "l5qrMEwBG8Dl",
        "colab_type": "code",
        "outputId": "5dbc1695-f391-4eb9-8f1e-649d722a12dd",
        "colab": {
          "base_uri": "https://localhost:8080/",
          "height": 105
        }
      },
      "source": [
        "financeone.columns"
      ],
      "execution_count": 21,
      "outputs": [
        {
          "output_type": "execute_result",
          "data": {
            "text/plain": [
              "Index(['country', 'year', 'uniqueid', 'has_a_bank_account', 'type_of_location',\n",
              "       'cell_phone_access', 'household_size', 'respondent_age',\n",
              "       'gender_of_respondent', 'relationship_with_head', 'marital_status',\n",
              "       'level_of _education', 'type_of_job'],\n",
              "      dtype='object')"
            ]
          },
          "metadata": {
            "tags": []
          },
          "execution_count": 21
        }
      ]
    },
    {
      "cell_type": "code",
      "metadata": {
        "id": "_RD286IfKmLa",
        "colab_type": "code",
        "colab": {
          "base_uri": "https://localhost:8080/",
          "height": 445
        },
        "outputId": "1620ed9c-95a5-43e1-9fd0-ac97c95fe7fa"
      },
      "source": [
        "#A bar graph showing the distribution of the type of job column\n",
        "financeone['type_of_job'].value_counts().sort_index().plot.bar()\n",
        "plt.title('Job Type Bar Chart')\n",
        "plt.xlabel('Job type')\n",
        "plt.ylabel('Frequency')\n",
        "plt.show()"
      ],
      "execution_count": 38,
      "outputs": [
        {
          "output_type": "display_data",
          "data": {
            "image/png": "[encoded data removed]",
            "text/plain": [
              "<Figure size 432x288 with 1 Axes>"
            ]
          },
          "metadata": {
            "tags": []
          }
        }
      ]
    },
    {
      "cell_type": "markdown",
      "metadata": {
        "id": "flT4N_9qLKXi",
        "colab_type": "text"
      },
      "source": [
        "Most of the population fall under self employed job category followed by informally employed, farming and fishing. The least job category with few population are the peole who fall under the don't know/refuse to answer category"
      ]
    },
    {
      "cell_type": "code",
      "metadata": {
        "id": "P7rNCtsqTtbP",
        "colab_type": "code",
        "colab": {
          "base_uri": "https://localhost:8080/",
          "height": 490
        },
        "outputId": "7c25a6c0-e1df-45c8-d30b-0b5735d2b552"
      },
      "source": [
        "explode = (0.1,0,0,0,0,0)\n",
        "financeone.relationship_with_head.value_counts().plot.pie(autopct = '%1.1f%%', explode = explode,shadow = True, startangle = 140,figsize= (15,8))"
      ],
      "execution_count": 81,
      "outputs": [
        {
          "output_type": "execute_result",
          "data": {
            "text/plain": [
              "<matplotlib.axes._subplots.AxesSubplot at 0x7f8f2e638400>"
            ]
          },
          "metadata": {
            "tags": []
          },
          "execution_count": 81
        },
        {
          "output_type": "display_data",
          "data": {
            "image/png": "[encoded data removed]",
            "text/plain": [
              "<Figure size 1080x576 with 1 Axes>"
            ]
          },
          "metadata": {
            "tags": []
          }
        }
      ]
    },
    {
      "cell_type": "markdown",
      "metadata": {
        "id": "KrKYtuS9W5WV",
        "colab_type": "text"
      },
      "source": [
        "Most of the population have "
      ]
    },
    {
      "cell_type": "code",
      "metadata": {
        "id": "RxMT21_cUJLY",
        "colab_type": "code",
        "colab": {
          "base_uri": "https://localhost:8080/",
          "height": 141
        },
        "outputId": "ecb70566-67cd-41ea-ffea-86dd6f7b9bad"
      },
      "source": [
        "\n",
        "financeone.relationship_with_head.value_counts()"
      ],
      "execution_count": 71,
      "outputs": [
        {
          "output_type": "execute_result",
          "data": {
            "text/plain": [
              "Head of Household      12730\n",
              "Spouse                  6471\n",
              "Child                   2221\n",
              "Parent                  1069\n",
              "Other relative           663\n",
              "Other non-relatives      189\n",
              "Name: relationship_with_head, dtype: int64"
            ]
          },
          "metadata": {
            "tags": []
          },
          "execution_count": 71
        }
      ]
    },
    {
      "cell_type": "code",
      "metadata": {
        "id": "xHkR_ToMNRau",
        "colab_type": "code",
        "colab": {}
      },
      "source": [
        "# Assigning our columns to population and age variables\n",
        "rship_with_head = financeone['relationship_with_head']\n",
        "#cell_phone_access= financeone['cell_phone_access']\n",
        "\n",
        "# Plotting our pie chart\n",
        "# -------\n",
        "plt.pie(rship_with_head, labels = cell_phone_access, autopct = '%1.1f%%', shadow = True, startangle = 140)\n",
        "plt.axis('equal')\n",
        "plt.title('Pie Chart of Relationship with Head')\n",
        "plt.show()"
      ],
      "execution_count": 0,
      "outputs": []
    },
    {
      "cell_type": "code",
      "metadata": {
        "id": "0fiZsaceNRV4",
        "colab_type": "code",
        "colab": {}
      },
      "source": [
        ""
      ],
      "execution_count": 0,
      "outputs": []
    },
    {
      "cell_type": "markdown",
      "metadata": {
        "id": "-L-T6N7RMqzy",
        "colab_type": "text"
      },
      "source": [
        "# Bivariate Analysis"
      ]
    },
    {
      "cell_type": "code",
      "metadata": {
        "id": "Qcqw_3XgHPl9",
        "colab_type": "code",
        "colab": {}
      },
      "source": [
        "#graph between having a bank account and type of jom\n",
        "# set the background colour of the plot to white\n",
        "sns.set(style=\"whitegrid\", color_codes=True)\n",
        "# setting the plot size for all plots\n",
        "sns.set(rc={'figure.figsize':(12,10)})\n",
        "# create a countplot\n",
        "sns.countplot('has_a_bank_account',data=economic,hue = 'type_of_job')\n",
        "# Remove the top and down margin\n",
        "sns.despine(offset=10, trim=True)"
      ],
      "execution_count": 0,
      "outputs": []
    }
  ]
}